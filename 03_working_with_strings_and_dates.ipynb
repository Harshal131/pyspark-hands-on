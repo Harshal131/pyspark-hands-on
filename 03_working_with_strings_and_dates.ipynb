{
 "cells": [
  {
   "cell_type": "code",
   "execution_count": 1,
   "id": "9342d353-1c3d-47f7-a09f-70ee597a27de",
   "metadata": {},
   "outputs": [],
   "source": [
    "from pyspark.sql import SparkSession\n",
    "\n",
    "# Create a Spark session\n",
    "spark = SparkSession.builder.appName(\"PySpark\").getOrCreate()"
   ]
  },
  {
   "cell_type": "code",
   "execution_count": 2,
   "id": "20f8a451-42f1-47ee-a344-d4474ad1e01d",
   "metadata": {},
   "outputs": [],
   "source": [
    "emp_data = [\n",
    "    [\"001\",\"101\",\"John Doe\",\"30\",\"Male\",\"50000\",\"2015-01-01\"],\n",
    "    [\"002\",\"101\",\"Jane Smith\",\"25\",\"Female\",\"45000\",\"2016-02-15\"],\n",
    "    [\"003\",\"102\",\"Bob Brown\",\"35\",\"Male\",\"55000\",\"2014-05-01\"],\n",
    "    [\"004\",\"102\",\"Alice Lee\",\"28\",\"Female\",\"48000\",\"2017-09-30\"],\n",
    "    [\"005\",\"103\",\"Jack Chan\",\"40\",\"Male\",\"60000\",\"2013-04-01\"],\n",
    "    [\"006\",\"103\",\"Jill Wong\",\"32\",\"Female\",\"52000\",\"2018-07-01\"],\n",
    "    [\"007\",\"101\",\"James Johnson\",\"42\",\"Male\",\"70000\",\"2012-03-15\"],\n",
    "    [\"008\",\"102\",\"Kate Kim\",\"29\",\"Female\",\"51000\",\"2019-10-01\"],\n",
    "    [\"009\",\"103\",\"Tom Tan\",\"33\",\"Male\",\"58000\",\"2016-06-01\"],\n",
    "    [\"010\",\"104\",\"Lisa Lee\",\"27\",\"Female\",\"47000\",\"2018-08-01\"],\n",
    "    [\"011\",\"104\",\"David Park\",\"38\",\"Male\",\"65000\",\"2015-11-01\"],\n",
    "    [\"012\",\"105\",\"Susan Chen\",\"31\",\"Female\",\"54000\",\"2017-02-15\"],\n",
    "    [\"013\",\"106\",\"Brian Kim\",\"45\",\"Male\",\"75000\",\"2011-07-01\"],\n",
    "    [\"014\",\"107\",\"Emily Lee\",\"26\",\"Female\",\"46000\",\"2019-01-01\"],\n",
    "    [\"015\",\"106\",\"Michael Lee\",\"37\",\"Male\",\"63000\",\"2014-09-30\"],\n",
    "    [\"016\",\"107\",\"Kelly Zhang\",\"30\",\"Female\",\"49000\",\"2018-04-01\"],\n",
    "    [\"017\",\"105\",\"George Wang\",\"34\",\"Male\",\"57000\",\"2016-03-15\"],\n",
    "    [\"018\",\"104\",\"Nancy Liu\",\"29\",\"\",\"50000\",\"2017-06-01\"],\n",
    "    [\"019\",\"103\",\"Steven Chen\",\"36\",\"Male\",\"62000\",\"2015-08-01\"],\n",
    "    [\"020\",\"102\",\"Grace Kim\",\"32\",\"Female\",\"53000\",\"2018-11-01\"]\n",
    "]\n",
    "\n",
    "emp_schema = \"employee_id string, department_id string, name string, age string, gender string, salary string, hire_date string\"\n",
    "\n",
    "emp = spark.createDataFrame(data=emp_data, schema=emp_schema)"
   ]
  },
  {
   "cell_type": "code",
   "execution_count": 3,
   "id": "fe425831-8838-40f8-950f-319e2cd92683",
   "metadata": {},
   "outputs": [
    {
     "name": "stdout",
     "output_type": "stream",
     "text": [
      "+-----------+-------------+-------------+---+------+------+----------+\n",
      "|employee_id|department_id|         name|age|gender|salary| hire_date|\n",
      "+-----------+-------------+-------------+---+------+------+----------+\n",
      "|        001|          101|     John Doe| 30|  Male| 50000|2015-01-01|\n",
      "|        002|          101|   Jane Smith| 25|Female| 45000|2016-02-15|\n",
      "|        003|          102|    Bob Brown| 35|  Male| 55000|2014-05-01|\n",
      "|        004|          102|    Alice Lee| 28|Female| 48000|2017-09-30|\n",
      "|        005|          103|    Jack Chan| 40|  Male| 60000|2013-04-01|\n",
      "|        006|          103|    Jill Wong| 32|Female| 52000|2018-07-01|\n",
      "|        007|          101|James Johnson| 42|  Male| 70000|2012-03-15|\n",
      "|        008|          102|     Kate Kim| 29|Female| 51000|2019-10-01|\n",
      "|        009|          103|      Tom Tan| 33|  Male| 58000|2016-06-01|\n",
      "|        010|          104|     Lisa Lee| 27|Female| 47000|2018-08-01|\n",
      "|        011|          104|   David Park| 38|  Male| 65000|2015-11-01|\n",
      "|        012|          105|   Susan Chen| 31|Female| 54000|2017-02-15|\n",
      "|        013|          106|    Brian Kim| 45|  Male| 75000|2011-07-01|\n",
      "|        014|          107|    Emily Lee| 26|Female| 46000|2019-01-01|\n",
      "|        015|          106|  Michael Lee| 37|  Male| 63000|2014-09-30|\n",
      "|        016|          107|  Kelly Zhang| 30|Female| 49000|2018-04-01|\n",
      "|        017|          105|  George Wang| 34|  Male| 57000|2016-03-15|\n",
      "|        018|          104|    Nancy Liu| 29|      | 50000|2017-06-01|\n",
      "|        019|          103|  Steven Chen| 36|  Male| 62000|2015-08-01|\n",
      "|        020|          102|    Grace Kim| 32|Female| 53000|2018-11-01|\n",
      "+-----------+-------------+-------------+---+------+------+----------+\n",
      "\n"
     ]
    }
   ],
   "source": [
    "emp.show()"
   ]
  },
  {
   "cell_type": "code",
   "execution_count": 4,
   "id": "f66aad1d-9318-49a5-b9a7-886b47acac5f",
   "metadata": {},
   "outputs": [
    {
     "name": "stdout",
     "output_type": "stream",
     "text": [
      "root\n",
      " |-- employee_id: string (nullable = true)\n",
      " |-- department_id: string (nullable = true)\n",
      " |-- name: string (nullable = true)\n",
      " |-- age: string (nullable = true)\n",
      " |-- gender: string (nullable = true)\n",
      " |-- salary: string (nullable = true)\n",
      " |-- hire_date: string (nullable = true)\n",
      "\n"
     ]
    }
   ],
   "source": [
    "emp.printSchema()"
   ]
  },
  {
   "cell_type": "code",
   "execution_count": 5,
   "id": "fa4cbaf6-d175-4aee-b5fe-6476d63fbcab",
   "metadata": {},
   "outputs": [],
   "source": [
    "# Create new column using when statement\\\n",
    "from pyspark.sql.functions import when,col,expr\n",
    "emp_gender_fixed = emp.withColumn(\"new_gender\",when(col(\"gender\") == 'Male', 'M').when(col(\"gender\")==\"Female\",\"F\").otherwise(None))\n",
    "emp_gender_fixed_1 = emp.withColumn(\"new_gender\",expr(\"CASE WHEN gender = 'Male' THEN 'M' WHEN gender == 'Female' THEN 'F' ELSE null END\"))"
   ]
  },
  {
   "cell_type": "code",
   "execution_count": 6,
   "id": "ec402264-a1b1-462b-846a-4bf636154cc2",
   "metadata": {},
   "outputs": [
    {
     "name": "stdout",
     "output_type": "stream",
     "text": [
      "+-----------+-------------+-------------+---+------+------+----------+----------+\n",
      "|employee_id|department_id|         name|age|gender|salary| hire_date|new_gender|\n",
      "+-----------+-------------+-------------+---+------+------+----------+----------+\n",
      "|        001|          101|     John Doe| 30|  Male| 50000|2015-01-01|         M|\n",
      "|        002|          101|   Jane Smith| 25|Female| 45000|2016-02-15|         F|\n",
      "|        003|          102|    Bob Brown| 35|  Male| 55000|2014-05-01|         M|\n",
      "|        004|          102|    Alice Lee| 28|Female| 48000|2017-09-30|         F|\n",
      "|        005|          103|    Jack Chan| 40|  Male| 60000|2013-04-01|         M|\n",
      "|        006|          103|    Jill Wong| 32|Female| 52000|2018-07-01|         F|\n",
      "|        007|          101|James Johnson| 42|  Male| 70000|2012-03-15|         M|\n",
      "|        008|          102|     Kate Kim| 29|Female| 51000|2019-10-01|         F|\n",
      "|        009|          103|      Tom Tan| 33|  Male| 58000|2016-06-01|         M|\n",
      "|        010|          104|     Lisa Lee| 27|Female| 47000|2018-08-01|         F|\n",
      "|        011|          104|   David Park| 38|  Male| 65000|2015-11-01|         M|\n",
      "|        012|          105|   Susan Chen| 31|Female| 54000|2017-02-15|         F|\n",
      "|        013|          106|    Brian Kim| 45|  Male| 75000|2011-07-01|         M|\n",
      "|        014|          107|    Emily Lee| 26|Female| 46000|2019-01-01|         F|\n",
      "|        015|          106|  Michael Lee| 37|  Male| 63000|2014-09-30|         M|\n",
      "|        016|          107|  Kelly Zhang| 30|Female| 49000|2018-04-01|         F|\n",
      "|        017|          105|  George Wang| 34|  Male| 57000|2016-03-15|         M|\n",
      "|        018|          104|    Nancy Liu| 29|      | 50000|2017-06-01|      NULL|\n",
      "|        019|          103|  Steven Chen| 36|  Male| 62000|2015-08-01|         M|\n",
      "|        020|          102|    Grace Kim| 32|Female| 53000|2018-11-01|         F|\n",
      "+-----------+-------------+-------------+---+------+------+----------+----------+\n",
      "\n",
      "+-----------+-------------+-------------+---+------+------+----------+----------+\n",
      "|employee_id|department_id|         name|age|gender|salary| hire_date|new_gender|\n",
      "+-----------+-------------+-------------+---+------+------+----------+----------+\n",
      "|        001|          101|     John Doe| 30|  Male| 50000|2015-01-01|         M|\n",
      "|        002|          101|   Jane Smith| 25|Female| 45000|2016-02-15|         F|\n",
      "|        003|          102|    Bob Brown| 35|  Male| 55000|2014-05-01|         M|\n",
      "|        004|          102|    Alice Lee| 28|Female| 48000|2017-09-30|         F|\n",
      "|        005|          103|    Jack Chan| 40|  Male| 60000|2013-04-01|         M|\n",
      "|        006|          103|    Jill Wong| 32|Female| 52000|2018-07-01|         F|\n",
      "|        007|          101|James Johnson| 42|  Male| 70000|2012-03-15|         M|\n",
      "|        008|          102|     Kate Kim| 29|Female| 51000|2019-10-01|         F|\n",
      "|        009|          103|      Tom Tan| 33|  Male| 58000|2016-06-01|         M|\n",
      "|        010|          104|     Lisa Lee| 27|Female| 47000|2018-08-01|         F|\n",
      "|        011|          104|   David Park| 38|  Male| 65000|2015-11-01|         M|\n",
      "|        012|          105|   Susan Chen| 31|Female| 54000|2017-02-15|         F|\n",
      "|        013|          106|    Brian Kim| 45|  Male| 75000|2011-07-01|         M|\n",
      "|        014|          107|    Emily Lee| 26|Female| 46000|2019-01-01|         F|\n",
      "|        015|          106|  Michael Lee| 37|  Male| 63000|2014-09-30|         M|\n",
      "|        016|          107|  Kelly Zhang| 30|Female| 49000|2018-04-01|         F|\n",
      "|        017|          105|  George Wang| 34|  Male| 57000|2016-03-15|         M|\n",
      "|        018|          104|    Nancy Liu| 29|      | 50000|2017-06-01|      NULL|\n",
      "|        019|          103|  Steven Chen| 36|  Male| 62000|2015-08-01|         M|\n",
      "|        020|          102|    Grace Kim| 32|Female| 53000|2018-11-01|         F|\n",
      "+-----------+-------------+-------------+---+------+------+----------+----------+\n",
      "\n"
     ]
    }
   ],
   "source": [
    "emp_gender_fixed.show()\n",
    "emp_gender_fixed_1.show()"
   ]
  },
  {
   "cell_type": "code",
   "execution_count": 8,
   "id": "5bf57235-5dcf-49d4-8d49-f00fd67c692e",
   "metadata": {},
   "outputs": [],
   "source": [
    "# Replace in strings\n",
    "\n",
    "from pyspark.sql.functions import regexp_replace\n",
    "emp_name_fixed = emp_gender_fixed.withColumn(\"new_name\",regexp_replace(col(\"name\"), \"J\", \"Z\"))"
   ]
  },
  {
   "cell_type": "code",
   "execution_count": 9,
   "id": "765e5805-a12b-4ddf-8e28-a76b3fc7f9db",
   "metadata": {},
   "outputs": [
    {
     "name": "stdout",
     "output_type": "stream",
     "text": [
      "+-----------+-------------+-------------+---+------+------+----------+----------+-------------+\n",
      "|employee_id|department_id|         name|age|gender|salary| hire_date|new_gender|     new_name|\n",
      "+-----------+-------------+-------------+---+------+------+----------+----------+-------------+\n",
      "|        001|          101|     John Doe| 30|  Male| 50000|2015-01-01|         M|     Zohn Doe|\n",
      "|        002|          101|   Jane Smith| 25|Female| 45000|2016-02-15|         F|   Zane Smith|\n",
      "|        003|          102|    Bob Brown| 35|  Male| 55000|2014-05-01|         M|    Bob Brown|\n",
      "|        004|          102|    Alice Lee| 28|Female| 48000|2017-09-30|         F|    Alice Lee|\n",
      "|        005|          103|    Jack Chan| 40|  Male| 60000|2013-04-01|         M|    Zack Chan|\n",
      "|        006|          103|    Jill Wong| 32|Female| 52000|2018-07-01|         F|    Zill Wong|\n",
      "|        007|          101|James Johnson| 42|  Male| 70000|2012-03-15|         M|Zames Zohnson|\n",
      "|        008|          102|     Kate Kim| 29|Female| 51000|2019-10-01|         F|     Kate Kim|\n",
      "|        009|          103|      Tom Tan| 33|  Male| 58000|2016-06-01|         M|      Tom Tan|\n",
      "|        010|          104|     Lisa Lee| 27|Female| 47000|2018-08-01|         F|     Lisa Lee|\n",
      "|        011|          104|   David Park| 38|  Male| 65000|2015-11-01|         M|   David Park|\n",
      "|        012|          105|   Susan Chen| 31|Female| 54000|2017-02-15|         F|   Susan Chen|\n",
      "|        013|          106|    Brian Kim| 45|  Male| 75000|2011-07-01|         M|    Brian Kim|\n",
      "|        014|          107|    Emily Lee| 26|Female| 46000|2019-01-01|         F|    Emily Lee|\n",
      "|        015|          106|  Michael Lee| 37|  Male| 63000|2014-09-30|         M|  Michael Lee|\n",
      "|        016|          107|  Kelly Zhang| 30|Female| 49000|2018-04-01|         F|  Kelly Zhang|\n",
      "|        017|          105|  George Wang| 34|  Male| 57000|2016-03-15|         M|  George Wang|\n",
      "|        018|          104|    Nancy Liu| 29|      | 50000|2017-06-01|      NULL|    Nancy Liu|\n",
      "|        019|          103|  Steven Chen| 36|  Male| 62000|2015-08-01|         M|  Steven Chen|\n",
      "|        020|          102|    Grace Kim| 32|Female| 53000|2018-11-01|         F|    Grace Kim|\n",
      "+-----------+-------------+-------------+---+------+------+----------+----------+-------------+\n",
      "\n"
     ]
    }
   ],
   "source": [
    "emp_name_fixed.show()"
   ]
  },
  {
   "cell_type": "code",
   "execution_count": 10,
   "id": "76903723-cd05-438d-be56-85df8c9a040d",
   "metadata": {},
   "outputs": [],
   "source": [
    "# Convert Date\n",
    "from pyspark.sql.functions import to_date\n",
    "emp_date_fix = emp_name_fixed.withColumn(\"hire_date\",to_date(col(\"hire_date\"),'yyyy-MM-dd'))\n"
   ]
  },
  {
   "cell_type": "code",
   "execution_count": 12,
   "id": "b9e2d6ec-35cc-4da6-b2e0-f116967246be",
   "metadata": {},
   "outputs": [
    {
     "name": "stdout",
     "output_type": "stream",
     "text": [
      "root\n",
      " |-- employee_id: string (nullable = true)\n",
      " |-- department_id: string (nullable = true)\n",
      " |-- name: string (nullable = true)\n",
      " |-- age: string (nullable = true)\n",
      " |-- gender: string (nullable = true)\n",
      " |-- salary: string (nullable = true)\n",
      " |-- hire_date: date (nullable = true)\n",
      " |-- new_gender: string (nullable = true)\n",
      " |-- new_name: string (nullable = true)\n",
      "\n"
     ]
    }
   ],
   "source": [
    "emp_date_fix.printSchema()"
   ]
  },
  {
   "cell_type": "code",
   "execution_count": 17,
   "id": "e2e2d9f5-ef4d-44fd-a37a-83f240c9c7c1",
   "metadata": {},
   "outputs": [],
   "source": [
    "# Add date current date, current timestamp, extract year from hire_date\n",
    "from pyspark.sql.functions import current_timestamp, current_date\n",
    "\n",
    "columns = {\n",
    "    \"date_now\" : current_date(),\n",
    "    \"timestamp_now\": current_timestamp()\n",
    "}\n",
    "\n",
    "emp_dated = emp_date_fix.withColumns(columns)"
   ]
  },
  {
   "cell_type": "code",
   "execution_count": 18,
   "id": "056341b0-6f4a-4539-8470-cf40746aafc3",
   "metadata": {},
   "outputs": [
    {
     "name": "stdout",
     "output_type": "stream",
     "text": [
      "+-----------+-------------+-------------+---+------+------+----------+----------+-------------+----------+--------------------------+\n",
      "|employee_id|department_id|name         |age|gender|salary|hire_date |new_gender|new_name     |date_now  |timestamp_now             |\n",
      "+-----------+-------------+-------------+---+------+------+----------+----------+-------------+----------+--------------------------+\n",
      "|001        |101          |John Doe     |30 |Male  |50000 |2015-01-01|M         |Zohn Doe     |2024-09-13|2024-09-13 03:37:56.579132|\n",
      "|002        |101          |Jane Smith   |25 |Female|45000 |2016-02-15|F         |Zane Smith   |2024-09-13|2024-09-13 03:37:56.579132|\n",
      "|003        |102          |Bob Brown    |35 |Male  |55000 |2014-05-01|M         |Bob Brown    |2024-09-13|2024-09-13 03:37:56.579132|\n",
      "|004        |102          |Alice Lee    |28 |Female|48000 |2017-09-30|F         |Alice Lee    |2024-09-13|2024-09-13 03:37:56.579132|\n",
      "|005        |103          |Jack Chan    |40 |Male  |60000 |2013-04-01|M         |Zack Chan    |2024-09-13|2024-09-13 03:37:56.579132|\n",
      "|006        |103          |Jill Wong    |32 |Female|52000 |2018-07-01|F         |Zill Wong    |2024-09-13|2024-09-13 03:37:56.579132|\n",
      "|007        |101          |James Johnson|42 |Male  |70000 |2012-03-15|M         |Zames Zohnson|2024-09-13|2024-09-13 03:37:56.579132|\n",
      "|008        |102          |Kate Kim     |29 |Female|51000 |2019-10-01|F         |Kate Kim     |2024-09-13|2024-09-13 03:37:56.579132|\n",
      "|009        |103          |Tom Tan      |33 |Male  |58000 |2016-06-01|M         |Tom Tan      |2024-09-13|2024-09-13 03:37:56.579132|\n",
      "|010        |104          |Lisa Lee     |27 |Female|47000 |2018-08-01|F         |Lisa Lee     |2024-09-13|2024-09-13 03:37:56.579132|\n",
      "|011        |104          |David Park   |38 |Male  |65000 |2015-11-01|M         |David Park   |2024-09-13|2024-09-13 03:37:56.579132|\n",
      "|012        |105          |Susan Chen   |31 |Female|54000 |2017-02-15|F         |Susan Chen   |2024-09-13|2024-09-13 03:37:56.579132|\n",
      "|013        |106          |Brian Kim    |45 |Male  |75000 |2011-07-01|M         |Brian Kim    |2024-09-13|2024-09-13 03:37:56.579132|\n",
      "|014        |107          |Emily Lee    |26 |Female|46000 |2019-01-01|F         |Emily Lee    |2024-09-13|2024-09-13 03:37:56.579132|\n",
      "|015        |106          |Michael Lee  |37 |Male  |63000 |2014-09-30|M         |Michael Lee  |2024-09-13|2024-09-13 03:37:56.579132|\n",
      "|016        |107          |Kelly Zhang  |30 |Female|49000 |2018-04-01|F         |Kelly Zhang  |2024-09-13|2024-09-13 03:37:56.579132|\n",
      "|017        |105          |George Wang  |34 |Male  |57000 |2016-03-15|M         |George Wang  |2024-09-13|2024-09-13 03:37:56.579132|\n",
      "|018        |104          |Nancy Liu    |29 |      |50000 |2017-06-01|NULL      |Nancy Liu    |2024-09-13|2024-09-13 03:37:56.579132|\n",
      "|019        |103          |Steven Chen  |36 |Male  |62000 |2015-08-01|M         |Steven Chen  |2024-09-13|2024-09-13 03:37:56.579132|\n",
      "|020        |102          |Grace Kim    |32 |Female|53000 |2018-11-01|F         |Grace Kim    |2024-09-13|2024-09-13 03:37:56.579132|\n",
      "+-----------+-------------+-------------+---+------+------+----------+----------+-------------+----------+--------------------------+\n",
      "\n"
     ]
    }
   ],
   "source": [
    "emp_dated.show(truncate=False)"
   ]
  },
  {
   "cell_type": "code",
   "execution_count": 19,
   "id": "a742b801-8052-4291-9d9e-903632c54a3d",
   "metadata": {},
   "outputs": [],
   "source": [
    "# Drop null gender records\n",
    "emp_1 = emp_dated.dropna()"
   ]
  },
  {
   "cell_type": "code",
   "execution_count": 20,
   "id": "b0e49e71-ff73-43e6-8462-973cf8a5231e",
   "metadata": {},
   "outputs": [
    {
     "name": "stdout",
     "output_type": "stream",
     "text": [
      "+-----------+-------------+-------------+---+------+------+----------+----------+-------------+----------+--------------------+\n",
      "|employee_id|department_id|         name|age|gender|salary| hire_date|new_gender|     new_name|  date_now|       timestamp_now|\n",
      "+-----------+-------------+-------------+---+------+------+----------+----------+-------------+----------+--------------------+\n",
      "|        001|          101|     John Doe| 30|  Male| 50000|2015-01-01|         M|     Zohn Doe|2024-09-13|2024-09-13 03:39:...|\n",
      "|        002|          101|   Jane Smith| 25|Female| 45000|2016-02-15|         F|   Zane Smith|2024-09-13|2024-09-13 03:39:...|\n",
      "|        003|          102|    Bob Brown| 35|  Male| 55000|2014-05-01|         M|    Bob Brown|2024-09-13|2024-09-13 03:39:...|\n",
      "|        004|          102|    Alice Lee| 28|Female| 48000|2017-09-30|         F|    Alice Lee|2024-09-13|2024-09-13 03:39:...|\n",
      "|        005|          103|    Jack Chan| 40|  Male| 60000|2013-04-01|         M|    Zack Chan|2024-09-13|2024-09-13 03:39:...|\n",
      "|        006|          103|    Jill Wong| 32|Female| 52000|2018-07-01|         F|    Zill Wong|2024-09-13|2024-09-13 03:39:...|\n",
      "|        007|          101|James Johnson| 42|  Male| 70000|2012-03-15|         M|Zames Zohnson|2024-09-13|2024-09-13 03:39:...|\n",
      "|        008|          102|     Kate Kim| 29|Female| 51000|2019-10-01|         F|     Kate Kim|2024-09-13|2024-09-13 03:39:...|\n",
      "|        009|          103|      Tom Tan| 33|  Male| 58000|2016-06-01|         M|      Tom Tan|2024-09-13|2024-09-13 03:39:...|\n",
      "|        010|          104|     Lisa Lee| 27|Female| 47000|2018-08-01|         F|     Lisa Lee|2024-09-13|2024-09-13 03:39:...|\n",
      "|        011|          104|   David Park| 38|  Male| 65000|2015-11-01|         M|   David Park|2024-09-13|2024-09-13 03:39:...|\n",
      "|        012|          105|   Susan Chen| 31|Female| 54000|2017-02-15|         F|   Susan Chen|2024-09-13|2024-09-13 03:39:...|\n",
      "|        013|          106|    Brian Kim| 45|  Male| 75000|2011-07-01|         M|    Brian Kim|2024-09-13|2024-09-13 03:39:...|\n",
      "|        014|          107|    Emily Lee| 26|Female| 46000|2019-01-01|         F|    Emily Lee|2024-09-13|2024-09-13 03:39:...|\n",
      "|        015|          106|  Michael Lee| 37|  Male| 63000|2014-09-30|         M|  Michael Lee|2024-09-13|2024-09-13 03:39:...|\n",
      "|        016|          107|  Kelly Zhang| 30|Female| 49000|2018-04-01|         F|  Kelly Zhang|2024-09-13|2024-09-13 03:39:...|\n",
      "|        017|          105|  George Wang| 34|  Male| 57000|2016-03-15|         M|  George Wang|2024-09-13|2024-09-13 03:39:...|\n",
      "|        019|          103|  Steven Chen| 36|  Male| 62000|2015-08-01|         M|  Steven Chen|2024-09-13|2024-09-13 03:39:...|\n",
      "|        020|          102|    Grace Kim| 32|Female| 53000|2018-11-01|         F|    Grace Kim|2024-09-13|2024-09-13 03:39:...|\n",
      "+-----------+-------------+-------------+---+------+------+----------+----------+-------------+----------+--------------------+\n",
      "\n"
     ]
    }
   ],
   "source": [
    "emp_1.show()"
   ]
  },
  {
   "cell_type": "code",
   "execution_count": 26,
   "id": "4fa56ce1-629c-4f5a-b86c-2698635bf630",
   "metadata": {},
   "outputs": [],
   "source": [
    "# Fix null records\n",
    "from pyspark.sql.functions import coalesce, lit\n",
    "emp_null_df = emp_dated.withColumn(\"new_gender\",coalesce(col(\"new_gender\"),lit(\"O\")))"
   ]
  },
  {
   "cell_type": "code",
   "execution_count": 27,
   "id": "40343006-1d2e-42b0-bbf8-53f5e1750c1a",
   "metadata": {},
   "outputs": [
    {
     "name": "stdout",
     "output_type": "stream",
     "text": [
      "+-----------+-------------+-------------+---+------+------+----------+----------+-------------+----------+--------------------+\n",
      "|employee_id|department_id|         name|age|gender|salary| hire_date|new_gender|     new_name|  date_now|       timestamp_now|\n",
      "+-----------+-------------+-------------+---+------+------+----------+----------+-------------+----------+--------------------+\n",
      "|        001|          101|     John Doe| 30|  Male| 50000|2015-01-01|         M|     Zohn Doe|2024-09-13|2024-09-13 03:43:...|\n",
      "|        002|          101|   Jane Smith| 25|Female| 45000|2016-02-15|         F|   Zane Smith|2024-09-13|2024-09-13 03:43:...|\n",
      "|        003|          102|    Bob Brown| 35|  Male| 55000|2014-05-01|         M|    Bob Brown|2024-09-13|2024-09-13 03:43:...|\n",
      "|        004|          102|    Alice Lee| 28|Female| 48000|2017-09-30|         F|    Alice Lee|2024-09-13|2024-09-13 03:43:...|\n",
      "|        005|          103|    Jack Chan| 40|  Male| 60000|2013-04-01|         M|    Zack Chan|2024-09-13|2024-09-13 03:43:...|\n",
      "|        006|          103|    Jill Wong| 32|Female| 52000|2018-07-01|         F|    Zill Wong|2024-09-13|2024-09-13 03:43:...|\n",
      "|        007|          101|James Johnson| 42|  Male| 70000|2012-03-15|         M|Zames Zohnson|2024-09-13|2024-09-13 03:43:...|\n",
      "|        008|          102|     Kate Kim| 29|Female| 51000|2019-10-01|         F|     Kate Kim|2024-09-13|2024-09-13 03:43:...|\n",
      "|        009|          103|      Tom Tan| 33|  Male| 58000|2016-06-01|         M|      Tom Tan|2024-09-13|2024-09-13 03:43:...|\n",
      "|        010|          104|     Lisa Lee| 27|Female| 47000|2018-08-01|         F|     Lisa Lee|2024-09-13|2024-09-13 03:43:...|\n",
      "|        011|          104|   David Park| 38|  Male| 65000|2015-11-01|         M|   David Park|2024-09-13|2024-09-13 03:43:...|\n",
      "|        012|          105|   Susan Chen| 31|Female| 54000|2017-02-15|         F|   Susan Chen|2024-09-13|2024-09-13 03:43:...|\n",
      "|        013|          106|    Brian Kim| 45|  Male| 75000|2011-07-01|         M|    Brian Kim|2024-09-13|2024-09-13 03:43:...|\n",
      "|        014|          107|    Emily Lee| 26|Female| 46000|2019-01-01|         F|    Emily Lee|2024-09-13|2024-09-13 03:43:...|\n",
      "|        015|          106|  Michael Lee| 37|  Male| 63000|2014-09-30|         M|  Michael Lee|2024-09-13|2024-09-13 03:43:...|\n",
      "|        016|          107|  Kelly Zhang| 30|Female| 49000|2018-04-01|         F|  Kelly Zhang|2024-09-13|2024-09-13 03:43:...|\n",
      "|        017|          105|  George Wang| 34|  Male| 57000|2016-03-15|         M|  George Wang|2024-09-13|2024-09-13 03:43:...|\n",
      "|        018|          104|    Nancy Liu| 29|      | 50000|2017-06-01|         O|    Nancy Liu|2024-09-13|2024-09-13 03:43:...|\n",
      "|        019|          103|  Steven Chen| 36|  Male| 62000|2015-08-01|         M|  Steven Chen|2024-09-13|2024-09-13 03:43:...|\n",
      "|        020|          102|    Grace Kim| 32|Female| 53000|2018-11-01|         F|    Grace Kim|2024-09-13|2024-09-13 03:43:...|\n",
      "+-----------+-------------+-------------+---+------+------+----------+----------+-------------+----------+--------------------+\n",
      "\n"
     ]
    }
   ],
   "source": [
    "emp_null_df.show()"
   ]
  },
  {
   "cell_type": "code",
   "execution_count": 28,
   "id": "53713a8e-1081-4762-9eae-86681f17cdd3",
   "metadata": {},
   "outputs": [],
   "source": [
    "# Drop old columns and rename new columns\n",
    "emp_final = emp_null_df.drop(\"name\",\"gender\").withColumnRenamed(\"new_name\",\"name\").withColumnRenamed(\"new_gender\",\"gender\")"
   ]
  },
  {
   "cell_type": "code",
   "execution_count": 29,
   "id": "cecc5b07-9347-46cc-9897-e5fa02902ec6",
   "metadata": {},
   "outputs": [
    {
     "name": "stdout",
     "output_type": "stream",
     "text": [
      "+-----------+-------------+---+------+----------+------+-------------+----------+--------------------+\n",
      "|employee_id|department_id|age|salary| hire_date|gender|         name|  date_now|       timestamp_now|\n",
      "+-----------+-------------+---+------+----------+------+-------------+----------+--------------------+\n",
      "|        001|          101| 30| 50000|2015-01-01|     M|     Zohn Doe|2024-09-13|2024-09-13 03:45:...|\n",
      "|        002|          101| 25| 45000|2016-02-15|     F|   Zane Smith|2024-09-13|2024-09-13 03:45:...|\n",
      "|        003|          102| 35| 55000|2014-05-01|     M|    Bob Brown|2024-09-13|2024-09-13 03:45:...|\n",
      "|        004|          102| 28| 48000|2017-09-30|     F|    Alice Lee|2024-09-13|2024-09-13 03:45:...|\n",
      "|        005|          103| 40| 60000|2013-04-01|     M|    Zack Chan|2024-09-13|2024-09-13 03:45:...|\n",
      "|        006|          103| 32| 52000|2018-07-01|     F|    Zill Wong|2024-09-13|2024-09-13 03:45:...|\n",
      "|        007|          101| 42| 70000|2012-03-15|     M|Zames Zohnson|2024-09-13|2024-09-13 03:45:...|\n",
      "|        008|          102| 29| 51000|2019-10-01|     F|     Kate Kim|2024-09-13|2024-09-13 03:45:...|\n",
      "|        009|          103| 33| 58000|2016-06-01|     M|      Tom Tan|2024-09-13|2024-09-13 03:45:...|\n",
      "|        010|          104| 27| 47000|2018-08-01|     F|     Lisa Lee|2024-09-13|2024-09-13 03:45:...|\n",
      "|        011|          104| 38| 65000|2015-11-01|     M|   David Park|2024-09-13|2024-09-13 03:45:...|\n",
      "|        012|          105| 31| 54000|2017-02-15|     F|   Susan Chen|2024-09-13|2024-09-13 03:45:...|\n",
      "|        013|          106| 45| 75000|2011-07-01|     M|    Brian Kim|2024-09-13|2024-09-13 03:45:...|\n",
      "|        014|          107| 26| 46000|2019-01-01|     F|    Emily Lee|2024-09-13|2024-09-13 03:45:...|\n",
      "|        015|          106| 37| 63000|2014-09-30|     M|  Michael Lee|2024-09-13|2024-09-13 03:45:...|\n",
      "|        016|          107| 30| 49000|2018-04-01|     F|  Kelly Zhang|2024-09-13|2024-09-13 03:45:...|\n",
      "|        017|          105| 34| 57000|2016-03-15|     M|  George Wang|2024-09-13|2024-09-13 03:45:...|\n",
      "|        018|          104| 29| 50000|2017-06-01|     O|    Nancy Liu|2024-09-13|2024-09-13 03:45:...|\n",
      "|        019|          103| 36| 62000|2015-08-01|     M|  Steven Chen|2024-09-13|2024-09-13 03:45:...|\n",
      "|        020|          102| 32| 53000|2018-11-01|     F|    Grace Kim|2024-09-13|2024-09-13 03:45:...|\n",
      "+-----------+-------------+---+------+----------+------+-------------+----------+--------------------+\n",
      "\n"
     ]
    }
   ],
   "source": [
    "emp_final.show()"
   ]
  }
 ],
 "metadata": {
  "kernelspec": {
   "display_name": "Python 3 (ipykernel)",
   "language": "python",
   "name": "python3"
  },
  "language_info": {
   "codemirror_mode": {
    "name": "ipython",
    "version": 3
   },
   "file_extension": ".py",
   "mimetype": "text/x-python",
   "name": "python",
   "nbconvert_exporter": "python",
   "pygments_lexer": "ipython3",
   "version": "3.11.6"
  }
 },
 "nbformat": 4,
 "nbformat_minor": 5
}
