{
 "cells": [
  {
   "cell_type": "code",
   "execution_count": 1,
   "id": "70464394-9e10-4e48-a343-6c05fa3a1424",
   "metadata": {},
   "outputs": [],
   "source": [
    "from pyspark.sql import SparkSession\n",
    "\n",
    "# Create a Spark session\n",
    "spark = SparkSession.builder.appName(\"PySpark\").getOrCreate()"
   ]
  },
  {
   "cell_type": "code",
   "execution_count": 2,
   "id": "aabd6736-aa28-44f0-ab50-d6effb7a4ccc",
   "metadata": {},
   "outputs": [],
   "source": [
    "emp_data = [\n",
    "    [\"001\",\"101\",\"John Doe\",\"30\",\"Male\",\"50000\",\"2015-01-01\"],\n",
    "    [\"002\",\"101\",\"Jane Smith\",\"25\",\"Female\",\"45000\",\"2016-02-15\"],\n",
    "    [\"003\",\"102\",\"Bob Brown\",\"35\",\"Male\",\"55000\",\"2014-05-01\"],\n",
    "    [\"004\",\"102\",\"Alice Lee\",\"28\",\"Female\",\"48000\",\"2017-09-30\"],\n",
    "    [\"005\",\"103\",\"Jack Chan\",\"40\",\"Male\",\"60000\",\"2013-04-01\"],\n",
    "    [\"006\",\"103\",\"Jill Wong\",\"32\",\"Female\",\"52000\",\"2018-07-01\"],\n",
    "    [\"007\",\"101\",\"James Johnson\",\"42\",\"Male\",\"70000\",\"2012-03-15\"],\n",
    "    [\"008\",\"102\",\"Kate Kim\",\"29\",\"Female\",\"51000\",\"2019-10-01\"],\n",
    "    [\"009\",\"103\",\"Tom Tan\",\"33\",\"Male\",\"58000\",\"2016-06-01\"],\n",
    "    [\"010\",\"104\",\"Lisa Lee\",\"27\",\"Female\",\"47000\",\"2018-08-01\"],\n",
    "    [\"011\",\"104\",\"David Park\",\"38\",\"Male\",\"65000\",\"2015-11-01\"],\n",
    "    [\"012\",\"105\",\"Susan Chen\",\"31\",\"Female\",\"54000\",\"2017-02-15\"],\n",
    "    [\"013\",\"106\",\"Brian Kim\",\"45\",\"Male\",\"75000\",\"2011-07-01\"],\n",
    "    [\"014\",\"107\",\"Emily Lee\",\"26\",\"Female\",\"46000\",\"2019-01-01\"],\n",
    "    [\"015\",\"106\",\"Michael Lee\",\"37\",\"Male\",\"63000\",\"2014-09-30\"],\n",
    "    [\"016\",\"107\",\"Kelly Zhang\",\"30\",\"Female\",\"49000\",\"2018-04-01\"],\n",
    "    [\"017\",\"105\",\"George Wang\",\"34\",\"Male\",\"57000\",\"2016-03-15\"],\n",
    "    [\"018\",\"104\",\"Nancy Liu\",\"29\",\"Female\",\"50000\",\"2017-06-01\"],\n",
    "    [\"019\",\"103\",\"Steven Chen\",\"36\",\"Male\",\"62000\",\"2015-08-01\"],\n",
    "    [\"020\",\"102\",\"Grace Kim\",\"32\",\"Female\",\"53000\",\"2018-11-01\"]\n",
    "]\n",
    "\n",
    "emp_schema = \"employee_id string, department_id string, name string, age string, gender string, salary string, hire_date string\"\n",
    "\n",
    "emp = spark.createDataFrame(data=emp_data, schema=emp_schema)"
   ]
  },
  {
   "cell_type": "code",
   "execution_count": 4,
   "id": "ea9ac4a5-965e-49f1-8458-0ac74f1a9a9e",
   "metadata": {},
   "outputs": [
    {
     "name": "stdout",
     "output_type": "stream",
     "text": [
      "+-----------+-------------+-------------+---+------+------+----------+\n",
      "|employee_id|department_id|         name|age|gender|salary| hire_date|\n",
      "+-----------+-------------+-------------+---+------+------+----------+\n",
      "|        001|          101|     John Doe| 30|  Male| 50000|2015-01-01|\n",
      "|        002|          101|   Jane Smith| 25|Female| 45000|2016-02-15|\n",
      "|        003|          102|    Bob Brown| 35|  Male| 55000|2014-05-01|\n",
      "|        004|          102|    Alice Lee| 28|Female| 48000|2017-09-30|\n",
      "|        005|          103|    Jack Chan| 40|  Male| 60000|2013-04-01|\n",
      "|        006|          103|    Jill Wong| 32|Female| 52000|2018-07-01|\n",
      "|        007|          101|James Johnson| 42|  Male| 70000|2012-03-15|\n",
      "|        008|          102|     Kate Kim| 29|Female| 51000|2019-10-01|\n",
      "|        009|          103|      Tom Tan| 33|  Male| 58000|2016-06-01|\n",
      "|        010|          104|     Lisa Lee| 27|Female| 47000|2018-08-01|\n",
      "|        011|          104|   David Park| 38|  Male| 65000|2015-11-01|\n",
      "|        012|          105|   Susan Chen| 31|Female| 54000|2017-02-15|\n",
      "|        013|          106|    Brian Kim| 45|  Male| 75000|2011-07-01|\n",
      "|        014|          107|    Emily Lee| 26|Female| 46000|2019-01-01|\n",
      "|        015|          106|  Michael Lee| 37|  Male| 63000|2014-09-30|\n",
      "|        016|          107|  Kelly Zhang| 30|Female| 49000|2018-04-01|\n",
      "|        017|          105|  George Wang| 34|  Male| 57000|2016-03-15|\n",
      "|        018|          104|    Nancy Liu| 29|Female| 50000|2017-06-01|\n",
      "|        019|          103|  Steven Chen| 36|  Male| 62000|2015-08-01|\n",
      "|        020|          102|    Grace Kim| 32|Female| 53000|2018-11-01|\n",
      "+-----------+-------------+-------------+---+------+------+----------+\n",
      "\n"
     ]
    }
   ],
   "source": [
    "emp.show()"
   ]
  },
  {
   "cell_type": "code",
   "execution_count": 6,
   "id": "0d61c3e0-d170-4f70-9b2d-738054c18a3a",
   "metadata": {},
   "outputs": [],
   "source": [
    "# SELECT columns\n",
    "from pyspark.sql.functions import col,expr\n",
    "emp_filtered = emp.select(col(\"employee_id\"),expr(\"name\"),emp.age,emp.salary)"
   ]
  },
  {
   "cell_type": "code",
   "execution_count": 7,
   "id": "3146d345-483e-4f6c-8fff-1a848ba842f3",
   "metadata": {},
   "outputs": [
    {
     "name": "stdout",
     "output_type": "stream",
     "text": [
      "+-----------+-------------+---+------+\n",
      "|employee_id|         name|age|salary|\n",
      "+-----------+-------------+---+------+\n",
      "|        001|     John Doe| 30| 50000|\n",
      "|        002|   Jane Smith| 25| 45000|\n",
      "|        003|    Bob Brown| 35| 55000|\n",
      "|        004|    Alice Lee| 28| 48000|\n",
      "|        005|    Jack Chan| 40| 60000|\n",
      "|        006|    Jill Wong| 32| 52000|\n",
      "|        007|James Johnson| 42| 70000|\n",
      "|        008|     Kate Kim| 29| 51000|\n",
      "|        009|      Tom Tan| 33| 58000|\n",
      "|        010|     Lisa Lee| 27| 47000|\n",
      "|        011|   David Park| 38| 65000|\n",
      "|        012|   Susan Chen| 31| 54000|\n",
      "|        013|    Brian Kim| 45| 75000|\n",
      "|        014|    Emily Lee| 26| 46000|\n",
      "|        015|  Michael Lee| 37| 63000|\n",
      "|        016|  Kelly Zhang| 30| 49000|\n",
      "|        017|  George Wang| 34| 57000|\n",
      "|        018|    Nancy Liu| 29| 50000|\n",
      "|        019|  Steven Chen| 36| 62000|\n",
      "|        020|    Grace Kim| 32| 53000|\n",
      "+-----------+-------------+---+------+\n",
      "\n"
     ]
    }
   ],
   "source": [
    "emp_filtered.show()"
   ]
  },
  {
   "cell_type": "code",
   "execution_count": 8,
   "id": "686135d4-3610-4fce-826b-9f179dd1fec6",
   "metadata": {},
   "outputs": [
    {
     "name": "stdout",
     "output_type": "stream",
     "text": [
      "root\n",
      " |-- employee_id: string (nullable = true)\n",
      " |-- name: string (nullable = true)\n",
      " |-- age: string (nullable = true)\n",
      " |-- salary: string (nullable = true)\n",
      "\n"
     ]
    }
   ],
   "source": [
    "emp_filtered.printSchema()"
   ]
  },
  {
   "cell_type": "code",
   "execution_count": 9,
   "id": "545a0c97-3315-4000-8dff-88e2a8bf3ad1",
   "metadata": {},
   "outputs": [],
   "source": [
    "# Cast age as int using expr\n",
    "emp_casted = emp_filtered.select(expr(\"employee_id\"),emp.name,expr(\"cast(age as int) as age\"), emp.salary)"
   ]
  },
  {
   "cell_type": "code",
   "execution_count": 10,
   "id": "42f71b2c-33b0-402a-a844-d39539a2a422",
   "metadata": {},
   "outputs": [
    {
     "name": "stdout",
     "output_type": "stream",
     "text": [
      "root\n",
      " |-- employee_id: string (nullable = true)\n",
      " |-- name: string (nullable = true)\n",
      " |-- age: integer (nullable = true)\n",
      " |-- salary: string (nullable = true)\n",
      "\n"
     ]
    }
   ],
   "source": [
    "emp_casted.printSchema()"
   ]
  },
  {
   "cell_type": "code",
   "execution_count": 13,
   "id": "2a3453bd-47a5-4bf7-a59e-20fd05007b8e",
   "metadata": {},
   "outputs": [],
   "source": [
    "# Use selectExpr to cast age column\n",
    "emp_casted_1 = emp_filtered.selectExpr(\"employee_id as emp_id\",\"name\", \"cast(age as int) as age\", \"salary\")"
   ]
  },
  {
   "cell_type": "code",
   "execution_count": 14,
   "id": "664cda6d-d109-4644-801d-45be9321a252",
   "metadata": {},
   "outputs": [
    {
     "name": "stdout",
     "output_type": "stream",
     "text": [
      "root\n",
      " |-- emp_id: string (nullable = true)\n",
      " |-- name: string (nullable = true)\n",
      " |-- age: integer (nullable = true)\n",
      " |-- salary: string (nullable = true)\n",
      "\n"
     ]
    }
   ],
   "source": [
    "emp_casted_1.printSchema()"
   ]
  },
  {
   "cell_type": "code",
   "execution_count": 11,
   "id": "569c815f-38b3-46f9-ad25-d8a72997d0fe",
   "metadata": {},
   "outputs": [],
   "source": [
    "# Filter emp based on age > 30\n",
    "emp_gt_30 = emp_casted.select(\"employee_id\",\"name\",\"age\",\"salary\").where(\"age > 30\")"
   ]
  },
  {
   "cell_type": "code",
   "execution_count": 12,
   "id": "572acd99-df94-4e0b-a601-40dd859fbe1e",
   "metadata": {},
   "outputs": [
    {
     "name": "stdout",
     "output_type": "stream",
     "text": [
      "+-----------+-------------+---+------+\n",
      "|employee_id|         name|age|salary|\n",
      "+-----------+-------------+---+------+\n",
      "|        003|    Bob Brown| 35| 55000|\n",
      "|        005|    Jack Chan| 40| 60000|\n",
      "|        006|    Jill Wong| 32| 52000|\n",
      "|        007|James Johnson| 42| 70000|\n",
      "|        009|      Tom Tan| 33| 58000|\n",
      "|        011|   David Park| 38| 65000|\n",
      "|        012|   Susan Chen| 31| 54000|\n",
      "|        013|    Brian Kim| 45| 75000|\n",
      "|        015|  Michael Lee| 37| 63000|\n",
      "|        017|  George Wang| 34| 57000|\n",
      "|        019|  Steven Chen| 36| 62000|\n",
      "|        020|    Grace Kim| 32| 53000|\n",
      "+-----------+-------------+---+------+\n",
      "\n"
     ]
    }
   ],
   "source": [
    "emp_gt_30.show()"
   ]
  },
  {
   "cell_type": "code",
   "execution_count": 23,
   "id": "e0700365-7c62-4716-a41e-e79ae1299e20",
   "metadata": {},
   "outputs": [],
   "source": [
    "# Cast salary as double \n",
    "from pyspark.sql.functions import col, cast\n",
    "emp_cast_2 = emp.select(\"employee_id\",\"name\",\"age\", col(\"salary\").cast(\"double\"))"
   ]
  },
  {
   "cell_type": "code",
   "execution_count": 24,
   "id": "c36ed693-23e1-42ec-a889-cb488dff5c13",
   "metadata": {},
   "outputs": [
    {
     "name": "stdout",
     "output_type": "stream",
     "text": [
      "root\n",
      " |-- employee_id: string (nullable = true)\n",
      " |-- name: string (nullable = true)\n",
      " |-- age: string (nullable = true)\n",
      " |-- salary: double (nullable = true)\n",
      "\n"
     ]
    }
   ],
   "source": [
    "emp_cast_2.printSchema()"
   ]
  },
  {
   "cell_type": "code",
   "execution_count": 27,
   "id": "3b95401e-b948-46a6-b380-ca4592b19998",
   "metadata": {},
   "outputs": [],
   "source": [
    "# Adding column (salary*0.2) as tax\n",
    "emp_taxed = emp_cast_2.withColumn(\"tax\",col(\"salary\")*0.2)"
   ]
  },
  {
   "cell_type": "code",
   "execution_count": 28,
   "id": "6800b510-f494-464d-8535-a06a2a4db837",
   "metadata": {},
   "outputs": [
    {
     "name": "stdout",
     "output_type": "stream",
     "text": [
      "+-----------+-------------+---+-------+-------+\n",
      "|employee_id|         name|age| salary|    tax|\n",
      "+-----------+-------------+---+-------+-------+\n",
      "|        001|     John Doe| 30|50000.0|10000.0|\n",
      "|        002|   Jane Smith| 25|45000.0| 9000.0|\n",
      "|        003|    Bob Brown| 35|55000.0|11000.0|\n",
      "|        004|    Alice Lee| 28|48000.0| 9600.0|\n",
      "|        005|    Jack Chan| 40|60000.0|12000.0|\n",
      "|        006|    Jill Wong| 32|52000.0|10400.0|\n",
      "|        007|James Johnson| 42|70000.0|14000.0|\n",
      "|        008|     Kate Kim| 29|51000.0|10200.0|\n",
      "|        009|      Tom Tan| 33|58000.0|11600.0|\n",
      "|        010|     Lisa Lee| 27|47000.0| 9400.0|\n",
      "|        011|   David Park| 38|65000.0|13000.0|\n",
      "|        012|   Susan Chen| 31|54000.0|10800.0|\n",
      "|        013|    Brian Kim| 45|75000.0|15000.0|\n",
      "|        014|    Emily Lee| 26|46000.0| 9200.0|\n",
      "|        015|  Michael Lee| 37|63000.0|12600.0|\n",
      "|        016|  Kelly Zhang| 30|49000.0| 9800.0|\n",
      "|        017|  George Wang| 34|57000.0|11400.0|\n",
      "|        018|    Nancy Liu| 29|50000.0|10000.0|\n",
      "|        019|  Steven Chen| 36|62000.0|12400.0|\n",
      "|        020|    Grace Kim| 32|53000.0|10600.0|\n",
      "+-----------+-------------+---+-------+-------+\n",
      "\n"
     ]
    }
   ],
   "source": [
    "emp_taxed.show()"
   ]
  },
  {
   "cell_type": "code",
   "execution_count": 29,
   "id": "7b4eb11f-271e-4307-b304-2614bee2bb36",
   "metadata": {},
   "outputs": [],
   "source": [
    "# Adding static columns 1 as columnOne, 'two' as columnTwo\n",
    "from pyspark.sql.functions import lit\n",
    "emp_literal = emp_cast_2.withColumn(\"columnOne\",lit(1)).withColumn(\"columnTwo\",lit('two'))"
   ]
  },
  {
   "cell_type": "code",
   "execution_count": 30,
   "id": "4c108d06-4fba-4cfe-ae3f-dd2a5b295735",
   "metadata": {},
   "outputs": [
    {
     "name": "stdout",
     "output_type": "stream",
     "text": [
      "+-----------+-------------+---+-------+---------+---------+\n",
      "|employee_id|         name|age| salary|columnOne|columnTwo|\n",
      "+-----------+-------------+---+-------+---------+---------+\n",
      "|        001|     John Doe| 30|50000.0|        1|      two|\n",
      "|        002|   Jane Smith| 25|45000.0|        1|      two|\n",
      "|        003|    Bob Brown| 35|55000.0|        1|      two|\n",
      "|        004|    Alice Lee| 28|48000.0|        1|      two|\n",
      "|        005|    Jack Chan| 40|60000.0|        1|      two|\n",
      "|        006|    Jill Wong| 32|52000.0|        1|      two|\n",
      "|        007|James Johnson| 42|70000.0|        1|      two|\n",
      "|        008|     Kate Kim| 29|51000.0|        1|      two|\n",
      "|        009|      Tom Tan| 33|58000.0|        1|      two|\n",
      "|        010|     Lisa Lee| 27|47000.0|        1|      two|\n",
      "|        011|   David Park| 38|65000.0|        1|      two|\n",
      "|        012|   Susan Chen| 31|54000.0|        1|      two|\n",
      "|        013|    Brian Kim| 45|75000.0|        1|      two|\n",
      "|        014|    Emily Lee| 26|46000.0|        1|      two|\n",
      "|        015|  Michael Lee| 37|63000.0|        1|      two|\n",
      "|        016|  Kelly Zhang| 30|49000.0|        1|      two|\n",
      "|        017|  George Wang| 34|57000.0|        1|      two|\n",
      "|        018|    Nancy Liu| 29|50000.0|        1|      two|\n",
      "|        019|  Steven Chen| 36|62000.0|        1|      two|\n",
      "|        020|    Grace Kim| 32|53000.0|        1|      two|\n",
      "+-----------+-------------+---+-------+---------+---------+\n",
      "\n"
     ]
    }
   ],
   "source": [
    "emp_literal.show()"
   ]
  },
  {
   "cell_type": "code",
   "execution_count": 32,
   "id": "9010f346-8d4a-4318-98fd-62f8ad5b4ac9",
   "metadata": {},
   "outputs": [],
   "source": [
    "# Another way to add multiple columns\n",
    "columns = {\n",
    "    \"tax\" : col(\"salary\")*0.2,\n",
    "    \"columnOne\": lit(1),\n",
    "    \"columnTwo\": lit('two') \n",
    "}\n",
    "emp_add_multiple_columns = emp_cast_2.withColumns(columns)"
   ]
  },
  {
   "cell_type": "code",
   "execution_count": 33,
   "id": "7495c4ad-f349-4a28-984b-998c36cbb8f1",
   "metadata": {},
   "outputs": [
    {
     "name": "stdout",
     "output_type": "stream",
     "text": [
      "+-----------+-------------+---+-------+-------+---------+---------+\n",
      "|employee_id|         name|age| salary|    tax|columnOne|columnTwo|\n",
      "+-----------+-------------+---+-------+-------+---------+---------+\n",
      "|        001|     John Doe| 30|50000.0|10000.0|        1|      two|\n",
      "|        002|   Jane Smith| 25|45000.0| 9000.0|        1|      two|\n",
      "|        003|    Bob Brown| 35|55000.0|11000.0|        1|      two|\n",
      "|        004|    Alice Lee| 28|48000.0| 9600.0|        1|      two|\n",
      "|        005|    Jack Chan| 40|60000.0|12000.0|        1|      two|\n",
      "|        006|    Jill Wong| 32|52000.0|10400.0|        1|      two|\n",
      "|        007|James Johnson| 42|70000.0|14000.0|        1|      two|\n",
      "|        008|     Kate Kim| 29|51000.0|10200.0|        1|      two|\n",
      "|        009|      Tom Tan| 33|58000.0|11600.0|        1|      two|\n",
      "|        010|     Lisa Lee| 27|47000.0| 9400.0|        1|      two|\n",
      "|        011|   David Park| 38|65000.0|13000.0|        1|      two|\n",
      "|        012|   Susan Chen| 31|54000.0|10800.0|        1|      two|\n",
      "|        013|    Brian Kim| 45|75000.0|15000.0|        1|      two|\n",
      "|        014|    Emily Lee| 26|46000.0| 9200.0|        1|      two|\n",
      "|        015|  Michael Lee| 37|63000.0|12600.0|        1|      two|\n",
      "|        016|  Kelly Zhang| 30|49000.0| 9800.0|        1|      two|\n",
      "|        017|  George Wang| 34|57000.0|11400.0|        1|      two|\n",
      "|        018|    Nancy Liu| 29|50000.0|10000.0|        1|      two|\n",
      "|        019|  Steven Chen| 36|62000.0|12400.0|        1|      two|\n",
      "|        020|    Grace Kim| 32|53000.0|10600.0|        1|      two|\n",
      "+-----------+-------------+---+-------+-------+---------+---------+\n",
      "\n"
     ]
    }
   ],
   "source": [
    "emp_add_multiple_columns.show()"
   ]
  },
  {
   "cell_type": "code",
   "execution_count": 34,
   "id": "bbbeb19d-0306-41a5-900e-71c5a22b959f",
   "metadata": {},
   "outputs": [],
   "source": [
    "# Rename columns\n",
    "emp_rename_columns = emp_cast_2.withColumnRenamed(\"employee_id\",\"emp_id\")"
   ]
  },
  {
   "cell_type": "code",
   "execution_count": 35,
   "id": "de30cb7b-54c5-4d61-a997-f27c8bbe9f9c",
   "metadata": {},
   "outputs": [
    {
     "name": "stdout",
     "output_type": "stream",
     "text": [
      "+------+-------------+---+-------+\n",
      "|emp_id|         name|age| salary|\n",
      "+------+-------------+---+-------+\n",
      "|   001|     John Doe| 30|50000.0|\n",
      "|   002|   Jane Smith| 25|45000.0|\n",
      "|   003|    Bob Brown| 35|55000.0|\n",
      "|   004|    Alice Lee| 28|48000.0|\n",
      "|   005|    Jack Chan| 40|60000.0|\n",
      "|   006|    Jill Wong| 32|52000.0|\n",
      "|   007|James Johnson| 42|70000.0|\n",
      "|   008|     Kate Kim| 29|51000.0|\n",
      "|   009|      Tom Tan| 33|58000.0|\n",
      "|   010|     Lisa Lee| 27|47000.0|\n",
      "|   011|   David Park| 38|65000.0|\n",
      "|   012|   Susan Chen| 31|54000.0|\n",
      "|   013|    Brian Kim| 45|75000.0|\n",
      "|   014|    Emily Lee| 26|46000.0|\n",
      "|   015|  Michael Lee| 37|63000.0|\n",
      "|   016|  Kelly Zhang| 30|49000.0|\n",
      "|   017|  George Wang| 34|57000.0|\n",
      "|   018|    Nancy Liu| 29|50000.0|\n",
      "|   019|  Steven Chen| 36|62000.0|\n",
      "|   020|    Grace Kim| 32|53000.0|\n",
      "+------+-------------+---+-------+\n",
      "\n"
     ]
    }
   ],
   "source": [
    "emp_rename_columns.show()"
   ]
  },
  {
   "cell_type": "code",
   "execution_count": 36,
   "id": "97ed0cc5-48de-49f2-bd0e-0acccf3b92e6",
   "metadata": {},
   "outputs": [],
   "source": [
    "# Drop column\n",
    "emp_dropped = emp_add_multiple_columns.drop(\"columnTwo\")"
   ]
  },
  {
   "cell_type": "code",
   "execution_count": 37,
   "id": "25ddeec7-ab4a-49ad-8401-130256a76aaa",
   "metadata": {},
   "outputs": [
    {
     "name": "stdout",
     "output_type": "stream",
     "text": [
      "+-----------+-------------+---+-------+-------+---------+\n",
      "|employee_id|         name|age| salary|    tax|columnOne|\n",
      "+-----------+-------------+---+-------+-------+---------+\n",
      "|        001|     John Doe| 30|50000.0|10000.0|        1|\n",
      "|        002|   Jane Smith| 25|45000.0| 9000.0|        1|\n",
      "|        003|    Bob Brown| 35|55000.0|11000.0|        1|\n",
      "|        004|    Alice Lee| 28|48000.0| 9600.0|        1|\n",
      "|        005|    Jack Chan| 40|60000.0|12000.0|        1|\n",
      "|        006|    Jill Wong| 32|52000.0|10400.0|        1|\n",
      "|        007|James Johnson| 42|70000.0|14000.0|        1|\n",
      "|        008|     Kate Kim| 29|51000.0|10200.0|        1|\n",
      "|        009|      Tom Tan| 33|58000.0|11600.0|        1|\n",
      "|        010|     Lisa Lee| 27|47000.0| 9400.0|        1|\n",
      "|        011|   David Park| 38|65000.0|13000.0|        1|\n",
      "|        012|   Susan Chen| 31|54000.0|10800.0|        1|\n",
      "|        013|    Brian Kim| 45|75000.0|15000.0|        1|\n",
      "|        014|    Emily Lee| 26|46000.0| 9200.0|        1|\n",
      "|        015|  Michael Lee| 37|63000.0|12600.0|        1|\n",
      "|        016|  Kelly Zhang| 30|49000.0| 9800.0|        1|\n",
      "|        017|  George Wang| 34|57000.0|11400.0|        1|\n",
      "|        018|    Nancy Liu| 29|50000.0|10000.0|        1|\n",
      "|        019|  Steven Chen| 36|62000.0|12400.0|        1|\n",
      "|        020|    Grace Kim| 32|53000.0|10600.0|        1|\n",
      "+-----------+-------------+---+-------+-------+---------+\n",
      "\n"
     ]
    }
   ],
   "source": [
    "emp_dropped.show()"
   ]
  },
  {
   "cell_type": "code",
   "execution_count": 38,
   "id": "bee13341-80c5-419c-a015-4bd3f287ee76",
   "metadata": {},
   "outputs": [],
   "source": [
    "# limit data\n",
    "emp_limit = emp_add_multiple_columns.limit(5)"
   ]
  },
  {
   "cell_type": "code",
   "execution_count": 39,
   "id": "c5b13cfe-c1e8-458a-9cb4-43f9616f292d",
   "metadata": {},
   "outputs": [
    {
     "name": "stdout",
     "output_type": "stream",
     "text": [
      "+-----------+----------+---+-------+-------+---------+---------+\n",
      "|employee_id|      name|age| salary|    tax|columnOne|columnTwo|\n",
      "+-----------+----------+---+-------+-------+---------+---------+\n",
      "|        001|  John Doe| 30|50000.0|10000.0|        1|      two|\n",
      "|        002|Jane Smith| 25|45000.0| 9000.0|        1|      two|\n",
      "|        003| Bob Brown| 35|55000.0|11000.0|        1|      two|\n",
      "|        004| Alice Lee| 28|48000.0| 9600.0|        1|      two|\n",
      "|        005| Jack Chan| 40|60000.0|12000.0|        1|      two|\n",
      "+-----------+----------+---+-------+-------+---------+---------+\n",
      "\n"
     ]
    }
   ],
   "source": [
    "emp_limit.show()"
   ]
  }
 ],
 "metadata": {
  "kernelspec": {
   "display_name": "Python 3 (ipykernel)",
   "language": "python",
   "name": "python3"
  },
  "language_info": {
   "codemirror_mode": {
    "name": "ipython",
    "version": 3
   },
   "file_extension": ".py",
   "mimetype": "text/x-python",
   "name": "python",
   "nbconvert_exporter": "python",
   "pygments_lexer": "ipython3",
   "version": "3.11.6"
  }
 },
 "nbformat": 4,
 "nbformat_minor": 5
}
